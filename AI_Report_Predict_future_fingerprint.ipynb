{
  "nbformat": 4,
  "nbformat_minor": 0,
  "metadata": {
    "colab": {
      "provenance": [],
      "include_colab_link": true
    },
    "kernelspec": {
      "name": "python3",
      "display_name": "Python 3"
    },
    "language_info": {
      "name": "python"
    },
    "accelerator": "GPU",
    "gpuClass": "standard"
  },
  "cells": [
    {
      "cell_type": "markdown",
      "metadata": {
        "id": "view-in-github",
        "colab_type": "text"
      },
      "source": [
        "<a href=\"https://colab.research.google.com/github/NMThanh123/AI_Report/blob/main/AI_Report_Predict_future_fingerprint.ipynb\" target=\"_parent\"><img src=\"https://colab.research.google.com/assets/colab-badge.svg\" alt=\"Open In Colab\"/></a>"
      ]
    },
    {
      "cell_type": "markdown",
      "source": [
        "# Predict 5 kind of flowers"
      ],
      "metadata": {
        "id": "fclrHn4hmsI4"
      }
    },
    {
      "cell_type": "code",
      "execution_count": null,
      "metadata": {
        "id": "Zr0Cvey_adzq"
      },
      "outputs": [],
      "source": [
        "import numpy as np\n",
        "import cv2 as cv\n",
        "import matplotlib.pyplot as plt\n",
        "import os\n",
        "from keras.models import Sequential, Model\n",
        "from tensorflow.keras.layers import Conv2D, MaxPooling2D, Dropout, Dense, Flatten, Input\n",
        "from tensorflow.keras.optimizers import Adam\n",
        "from sklearn.preprocessing import LabelBinarizer\n",
        "from sklearn.model_selection import train_test_split\n",
        "from tensorflow.keras.preprocessing.image import ImageDataGenerator\n",
        "import pickle"
      ]
    },
    {
      "cell_type": "code",
      "source": [
        "from google.colab import drive\n",
        "drive.mount('/content/drive')"
      ],
      "metadata": {
        "id": "najxVe38kFQl",
        "colab": {
          "base_uri": "https://localhost:8080/"
        },
        "outputId": "a0a8ecf4-4290-43c8-e47d-5bba7ea7b98f"
      },
      "execution_count": null,
      "outputs": [
        {
          "output_type": "stream",
          "name": "stdout",
          "text": [
            "Mounted at /content/drive\n"
          ]
        }
      ]
    },
    {
      "cell_type": "code",
      "source": [
        "def save_data(root_folder):\n",
        "\n",
        "    dest_size = (224, 224)\n",
        "    print(\"Bắt đầu xử lý ảnh...\")\n",
        "\n",
        "    images = []\n",
        "    labels = []\n",
        "\n",
        "    # Lặp qua các thư mục con con trong thư mục gốc\n",
        "    for folder in os.listdir(root_folder):\n",
        "        if folder!='.DS_Store':\n",
        "            print(\"Folder =\",folder)\n",
        "            # Lặp qua các file trong từng thư mục con  chứa các ảnh\n",
        "            for file in os.listdir(root_folder+'/'+folder):\n",
        "                if file!='.DS_Store':\n",
        "                    # print(\"File=\", file)\n",
        "                    images.append(cv.resize(cv.imread(root_folder + '/' + folder +\"/\" + file), dsize=(224, 224)))\n",
        "                    labels.append(folder)\n",
        "\n",
        "    images = np.array(images)\n",
        "    labels = np.array(labels)\n",
        "\n",
        "    encoder = LabelBinarizer()\n",
        "    labels = encoder.fit_transform(labels)\n",
        "    print(labels)\n",
        "\n",
        "    file = open('/content/drive/MyDrive/Colab Notebooks/Report/Data_report/pix_future_fingerprint.data', 'wb')\n",
        "    # dump information to that file\n",
        "    pickle.dump((images,labels), file)\n",
        "    # close the file\n",
        "    file.close()\n",
        "\n",
        "save_data('/content/drive/MyDrive/Colab Notebooks/Report/Data_report/data_fingerprint')"
      ],
      "metadata": {
        "colab": {
          "base_uri": "https://localhost:8080/"
        },
        "id": "lCcVD6iHa6u4",
        "outputId": "cd15b9f7-0a77-4f65-ab20-4edb7c512cd5"
      },
      "execution_count": null,
      "outputs": [
        {
          "output_type": "stream",
          "name": "stdout",
          "text": [
            "Bắt đầu xử lý ảnh...\n",
            "Folder = designer\n",
            "Folder = doctor\n",
            "Folder = engineer\n",
            "Folder = farmer\n",
            "Folder = singer\n",
            "Folder = teacher\n",
            "[[1 0 0 0 0 0]\n",
            " [1 0 0 0 0 0]\n",
            " [1 0 0 0 0 0]\n",
            " ...\n",
            " [0 0 0 0 0 1]\n",
            " [0 0 0 0 0 1]\n",
            " [0 0 0 0 0 1]]\n"
          ]
        }
      ]
    },
    {
      "cell_type": "code",
      "source": [
        "def load_data():\n",
        "    file = open('/content/drive/MyDrive/Colab Notebooks/Report/Data_report/pix_future_fingerprint.data', 'rb')\n",
        "\n",
        "    # dump information to that file\n",
        "    (pixels, labels) = pickle.load(file)\n",
        "\n",
        "    # close the file\n",
        "    file.close()\n",
        "\n",
        "    print(pixels.shape)\n",
        "    print(labels.shape)\n",
        "\n",
        "    return pixels, labels\n",
        "\n",
        "images, labels = load_data()"
      ],
      "metadata": {
        "colab": {
          "base_uri": "https://localhost:8080/"
        },
        "id": "fJQiyOBlb8L7",
        "outputId": "593ebfe1-610e-42e3-c7b7-7be9f8116e00"
      },
      "execution_count": null,
      "outputs": [
        {
          "output_type": "stream",
          "name": "stdout",
          "text": [
            "(1458, 224, 224, 3)\n",
            "(1458, 6)\n"
          ]
        }
      ]
    },
    {
      "cell_type": "code",
      "source": [
        "X_train, X_test, y_train, y_test = train_test_split(images, labels, test_size=0.2, random_state = 100)\n",
        "X = X_test\n",
        "X_train.shape"
      ],
      "metadata": {
        "colab": {
          "base_uri": "https://localhost:8080/"
        },
        "id": "NwcCpq9McCQn",
        "outputId": "e95ac787-0817-4352-ee9b-a0cdc96d0b79"
      },
      "execution_count": null,
      "outputs": [
        {
          "output_type": "execute_result",
          "data": {
            "text/plain": [
              "(1166, 224, 224, 3)"
            ]
          },
          "metadata": {},
          "execution_count": 3
        }
      ]
    },
    {
      "cell_type": "code",
      "source": [
        "X_train = X_train.astype('float32')/255\n",
        "X_test = X_test.astype('float32')/255"
      ],
      "metadata": {
        "id": "TeBk8uyecFGP"
      },
      "execution_count": null,
      "outputs": []
    },
    {
      "cell_type": "code",
      "source": [
        "model = Sequential()\n",
        "model.add(Conv2D(32, (3, 3), strides=(1,1), padding = 'same', activation = 'relu', input_shape=(224, 224, 3)))\n",
        "model.add(Conv2D(32, (3, 3),strides=(1,1), padding = 'same',  activation = 'relu'))\n",
        "model.add(MaxPooling2D(pool_size=(2, 2)))\n",
        "\n",
        "model.add(Conv2D(64, (3, 3), strides=(1,1), padding = 'same', activation = 'relu'))\n",
        "model.add(Conv2D(64, (3, 3), strides=(1,1), padding = 'same', activation = 'relu'))\n",
        "model.add(MaxPooling2D(pool_size=(2, 2)))\n",
        "\n",
        "model.add(Conv2D(128, (3, 3), strides=(1,1), padding = 'same', activation = 'relu'))\n",
        "model.add(Conv2D(128, (3, 3), strides=(1,1), padding = 'same', activation = 'relu'))\n",
        "model.add(MaxPooling2D(pool_size=(2, 2)))\n",
        "\n",
        "model.add(MaxPooling2D(pool_size=(2, 2)))\n",
        "model.add(Flatten())\n",
        "\n",
        "model.add(Dense(512, activation='relu'))\n",
        "model.add(Dense(128, activation='relu'))\n",
        "model.add(Dense(6, activation='softmax'))\n",
        "\n",
        "model.summary()\n",
        "\n",
        "model.compile(loss='categorical_crossentropy', optimizer=Adam(learning_rate=0.0005), metrics=['accuracy'])"
      ],
      "metadata": {
        "colab": {
          "base_uri": "https://localhost:8080/"
        },
        "id": "-7_Ci6HycIgN",
        "outputId": "1df9a865-dae2-4505-f566-5faa59cf3ea7"
      },
      "execution_count": null,
      "outputs": [
        {
          "output_type": "stream",
          "name": "stdout",
          "text": [
            "Model: \"sequential_2\"\n",
            "_________________________________________________________________\n",
            " Layer (type)                Output Shape              Param #   \n",
            "=================================================================\n",
            " conv2d_12 (Conv2D)          (None, 224, 224, 32)      896       \n",
            "                                                                 \n",
            " conv2d_13 (Conv2D)          (None, 224, 224, 32)      9248      \n",
            "                                                                 \n",
            " max_pooling2d_8 (MaxPooling  (None, 112, 112, 32)     0         \n",
            " 2D)                                                             \n",
            "                                                                 \n",
            " conv2d_14 (Conv2D)          (None, 112, 112, 64)      18496     \n",
            "                                                                 \n",
            " conv2d_15 (Conv2D)          (None, 112, 112, 64)      36928     \n",
            "                                                                 \n",
            " max_pooling2d_9 (MaxPooling  (None, 56, 56, 64)       0         \n",
            " 2D)                                                             \n",
            "                                                                 \n",
            " conv2d_16 (Conv2D)          (None, 56, 56, 128)       73856     \n",
            "                                                                 \n",
            " conv2d_17 (Conv2D)          (None, 56, 56, 128)       147584    \n",
            "                                                                 \n",
            " max_pooling2d_10 (MaxPoolin  (None, 28, 28, 128)      0         \n",
            " g2D)                                                            \n",
            "                                                                 \n",
            " max_pooling2d_11 (MaxPoolin  (None, 14, 14, 128)      0         \n",
            " g2D)                                                            \n",
            "                                                                 \n",
            " flatten_2 (Flatten)         (None, 25088)             0         \n",
            "                                                                 \n",
            " dense_6 (Dense)             (None, 512)               12845568  \n",
            "                                                                 \n",
            " dense_7 (Dense)             (None, 128)               65664     \n",
            "                                                                 \n",
            " dense_8 (Dense)             (None, 6)                 774       \n",
            "                                                                 \n",
            "=================================================================\n",
            "Total params: 13,199,014\n",
            "Trainable params: 13,199,014\n",
            "Non-trainable params: 0\n",
            "_________________________________________________________________\n"
          ]
        }
      ]
    },
    {
      "cell_type": "code",
      "source": [
        "h = model.fit(X_train, y_train, batch_size=32, epochs=30)"
      ],
      "metadata": {
        "id": "oKbvQdR9ceLM",
        "colab": {
          "base_uri": "https://localhost:8080/"
        },
        "outputId": "08ebfc2c-03fa-4168-a29e-4961f43fabfb"
      },
      "execution_count": null,
      "outputs": [
        {
          "output_type": "stream",
          "name": "stdout",
          "text": [
            "Epoch 1/30\n",
            "37/37 [==============================] - 53s 115ms/step - loss: 1.7579 - accuracy: 0.2882\n",
            "Epoch 2/30\n",
            "37/37 [==============================] - 4s 114ms/step - loss: 1.7408 - accuracy: 0.3036\n",
            "Epoch 3/30\n",
            "37/37 [==============================] - 4s 113ms/step - loss: 1.7421 - accuracy: 0.3036\n",
            "Epoch 4/30\n",
            "37/37 [==============================] - 4s 115ms/step - loss: 1.7425 - accuracy: 0.3036\n",
            "Epoch 5/30\n",
            "37/37 [==============================] - 4s 116ms/step - loss: 1.7398 - accuracy: 0.3036\n",
            "Epoch 6/30\n",
            "37/37 [==============================] - 4s 115ms/step - loss: 1.7374 - accuracy: 0.3036\n",
            "Epoch 7/30\n",
            "37/37 [==============================] - 4s 116ms/step - loss: 1.7337 - accuracy: 0.3036\n",
            "Epoch 8/30\n",
            "37/37 [==============================] - 4s 119ms/step - loss: 1.7326 - accuracy: 0.3036\n",
            "Epoch 9/30\n",
            "37/37 [==============================] - 4s 116ms/step - loss: 1.7263 - accuracy: 0.3036\n",
            "Epoch 10/30\n",
            "37/37 [==============================] - 4s 115ms/step - loss: 1.7223 - accuracy: 0.3036\n",
            "Epoch 11/30\n",
            "37/37 [==============================] - 4s 117ms/step - loss: 1.7153 - accuracy: 0.3036\n",
            "Epoch 12/30\n",
            "37/37 [==============================] - 4s 114ms/step - loss: 1.7022 - accuracy: 0.3036\n",
            "Epoch 13/30\n",
            "37/37 [==============================] - 4s 113ms/step - loss: 1.7051 - accuracy: 0.2967\n",
            "Epoch 14/30\n",
            "37/37 [==============================] - 4s 116ms/step - loss: 1.6862 - accuracy: 0.3079\n",
            "Epoch 15/30\n",
            "37/37 [==============================] - 4s 113ms/step - loss: 1.6628 - accuracy: 0.3122\n",
            "Epoch 16/30\n",
            "37/37 [==============================] - 4s 112ms/step - loss: 1.6704 - accuracy: 0.3070\n",
            "Epoch 17/30\n",
            "37/37 [==============================] - 4s 113ms/step - loss: 1.6882 - accuracy: 0.3062\n",
            "Epoch 18/30\n",
            "37/37 [==============================] - 4s 112ms/step - loss: 1.6702 - accuracy: 0.3216\n",
            "Epoch 19/30\n",
            "37/37 [==============================] - 4s 111ms/step - loss: 1.6515 - accuracy: 0.3148\n",
            "Epoch 20/30\n",
            "37/37 [==============================] - 4s 113ms/step - loss: 1.6198 - accuracy: 0.3482\n",
            "Epoch 21/30\n",
            "37/37 [==============================] - 4s 113ms/step - loss: 1.6160 - accuracy: 0.3379\n",
            "Epoch 22/30\n",
            "37/37 [==============================] - 4s 112ms/step - loss: 1.5726 - accuracy: 0.3576\n",
            "Epoch 23/30\n",
            "37/37 [==============================] - 4s 112ms/step - loss: 1.5111 - accuracy: 0.3842\n",
            "Epoch 24/30\n",
            "37/37 [==============================] - 4s 113ms/step - loss: 1.4638 - accuracy: 0.4288\n",
            "Epoch 25/30\n",
            "37/37 [==============================] - 4s 113ms/step - loss: 1.3366 - accuracy: 0.4743\n",
            "Epoch 26/30\n",
            "37/37 [==============================] - 4s 113ms/step - loss: 1.2121 - accuracy: 0.5334\n",
            "Epoch 27/30\n",
            "37/37 [==============================] - 4s 116ms/step - loss: 0.8648 - accuracy: 0.6818\n",
            "Epoch 28/30\n",
            "37/37 [==============================] - 4s 114ms/step - loss: 0.5866 - accuracy: 0.7847\n",
            "Epoch 29/30\n",
            "37/37 [==============================] - 4s 114ms/step - loss: 0.3609 - accuracy: 0.8885\n",
            "Epoch 30/30\n",
            "37/37 [==============================] - 4s 116ms/step - loss: 0.1793 - accuracy: 0.9383\n"
          ]
        }
      ]
    },
    {
      "cell_type": "code",
      "source": [
        "plt.style.use(\"ggplot\")\n",
        "plt.figure()\n",
        "plt.plot(np.arange(0, 30), h.history[\"loss\"], label=\"train_loss\")\n",
        "plt.plot(np.arange(0, 30), h.history[\"accuracy\"], label=\"train_acc\")\n",
        "plt.title(\"Training Loss and Acc\")\n",
        "plt.xlabel(\"No.Epoch\")\n",
        "plt.ylabel(\"Loss/Accuracy\")\n",
        "plt.legend()"
      ],
      "metadata": {
        "colab": {
          "base_uri": "https://localhost:8080/",
          "height": 494
        },
        "id": "UYSeR-HF4Okn",
        "outputId": "5695f982-284a-4267-d5a2-3a611d498953"
      },
      "execution_count": null,
      "outputs": [
        {
          "output_type": "execute_result",
          "data": {
            "text/plain": [
              "<matplotlib.legend.Legend at 0x7fd8d0516df0>"
            ]
          },
          "metadata": {},
          "execution_count": 17
        },
        {
          "output_type": "display_data",
          "data": {
            "text/plain": [
              "<Figure size 640x480 with 1 Axes>"
            ],
            "image/png": "[encoded data removed]"
          },
          "metadata": {}
        }
      ]
    },
    {
      "cell_type": "code",
      "source": [
        "model.save('/content/drive/MyDrive/Colab Notebooks/Report/Model_AI/model_fingerprint.h5')"
      ],
      "metadata": {
        "id": "ygwXsLFZjUYn"
      },
      "execution_count": null,
      "outputs": []
    }
  ]
}